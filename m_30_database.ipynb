{
 "cells": [
  {
   "cell_type": "markdown",
   "metadata": {},
   "source": [
    "# Script de interpolación de la base de datos de la M30"
   ]
  },
  {
   "cell_type": "markdown",
   "metadata": {},
   "source": [
    "En este documento se procede a explicar la interpolación de las medidas de la base de datos de la M30 proporcionada por el ayuntamiento de Madrid.\n",
    "\n",
    "Esta interpolación ha sido necesaria debido a que las mediciones proporcionadas no tienen la suficiente continuidad en espacio y tiempo como para tener una buena representación del tráfico soportado por la M30. Para ello, se ha realizado una interpolación temporal, en primer lugar y, tras esto, se ha realizado la interpolación espacial de las mediciones.\n",
    "\n",
    "Gracias a ello, se ha podido obtener una representación fiable del tráfico soportado de manera continua en todo el recorrido."
   ]
  },
  {
   "cell_type": "code",
   "execution_count": null,
   "metadata": {},
   "outputs": [],
   "source": [
    "import pandas as pd\n",
    "import matplotlib.pyplot as plt\n",
    "import numpy as np\n",
    "from mpl_toolkits.mplot3d import Axes3D\n",
    "import math\n",
    "import decimal\n",
    "%matplotlib inline"
   ]
  },
  {
   "cell_type": "markdown",
   "metadata": {},
   "source": [
    "Cargo la base de datos completa de las mediciones de la M30."
   ]
  },
  {
   "cell_type": "code",
   "execution_count": null,
   "metadata": {},
   "outputs": [],
   "source": [
    "df = pd.read_csv('df_M30.csv', delimiter=';')"
   ]
  },
  {
   "cell_type": "markdown",
   "metadata": {},
   "source": [
    "Cojo las mediciones de las espiras que se encuentren dentro de la M30."
   ]
  },
  {
   "cell_type": "code",
   "execution_count": null,
   "metadata": {},
   "outputs": [],
   "source": [
    "new_df = df[df['oldID'].str.contains('PM1.*1$')]"
   ]
  },
  {
   "cell_type": "markdown",
   "metadata": {},
   "source": [
    "Filtro las mediciones con un identificador distinto del establecido por el convenio del documento descriptivo de la M30."
   ]
  },
  {
   "cell_type": "code",
   "execution_count": null,
   "metadata": {},
   "outputs": [],
   "source": [
    "new_df = new_df.loc[new_df['oldID'].str.len() == 7]"
   ]
  },
  {
   "cell_type": "markdown",
   "metadata": {},
   "source": [
    "Establezco el kilómetro en el que se encuentra la espira a partir del identificador."
   ]
  },
  {
   "cell_type": "code",
   "execution_count": null,
   "metadata": {},
   "outputs": [],
   "source": [
    "new_df['KM'] = new_df[\"oldID\"].str[3:5].astype(str) + \".\" + new_df[\"oldID\"].str[5:6].astype(str)"
   ]
  },
  {
   "cell_type": "markdown",
   "metadata": {},
   "source": [
    "Cojo las mediciones realizadas en un día específico."
   ]
  },
  {
   "cell_type": "code",
   "execution_count": null,
   "metadata": {},
   "outputs": [],
   "source": [
    "new_df = new_df[new_df['fecha'].str.contains('2015-08-04')]"
   ]
  },
  {
   "cell_type": "markdown",
   "metadata": {},
   "source": [
    "Cambio el tipo de valor de los kilómetros a decimal"
   ]
  },
  {
   "cell_type": "code",
   "execution_count": null,
   "metadata": {},
   "outputs": [],
   "source": [
    "new_df[['KM']] = new_df.loc[:,['KM']].astype(np.float64)"
   ]
  },
  {
   "cell_type": "markdown",
   "metadata": {},
   "source": [
    "Aplico el algoritmo de tráfico para obtener la intensidad a partir de la densidad y de la velocidad media. Se asume que el escenario se encuentra en equilibrio para la aplicación de esta fórmula."
   ]
  },
  {
   "cell_type": "code",
   "execution_count": null,
   "metadata": {},
   "outputs": [],
   "source": [
    "new_df.loc[:, 'densidad'] = new_df.loc[:, \"intensidad\"] / new_df.loc[:, \"vmed\"]"
   ]
  },
  {
   "cell_type": "markdown",
   "metadata": {},
   "source": [
    "Elimino las mediciones que no tengan registrado ningún valor."
   ]
  },
  {
   "cell_type": "code",
   "execution_count": null,
   "metadata": {},
   "outputs": [],
   "source": [
    "new_df.dropna(subset = ['densidad'])"
   ]
  },
  {
   "cell_type": "markdown",
   "metadata": {},
   "source": [
    "A partir de la fecha proporcionada se crea una nueva columna con la hora de la medición realizada. Tras esto, se cambia el tipo del valor de string a decimal."
   ]
  },
  {
   "cell_type": "code",
   "execution_count": null,
   "metadata": {},
   "outputs": [],
   "source": [
    "new_df['Hora'] = new_df[\"fecha\"].str[11:13].astype(str) + \".\" + new_df[\"fecha\"].str[14:16].astype(str)\n",
    "new_df[['Hora']] = new_df.loc[:,['Hora']].astype(np.float64)"
   ]
  },
  {
   "cell_type": "markdown",
   "metadata": {},
   "source": [
    "Se ordenan las mediciones por la hora de la medición."
   ]
  },
  {
   "cell_type": "code",
   "execution_count": null,
   "metadata": {},
   "outputs": [],
   "source": [
    "new_df.sort_values('Hora').reset_index(drop=True)"
   ]
  },
  {
   "cell_type": "markdown",
   "metadata": {},
   "source": [
    "Se exporta el dataframe de un día a una base de datos."
   ]
  },
  {
   "cell_type": "code",
   "execution_count": null,
   "metadata": {},
   "outputs": [],
   "source": [
    "new_df.to_csv('df_M30_KM_dia.csv', sep=';')"
   ]
  },
  {
   "cell_type": "markdown",
   "metadata": {},
   "source": [
    "# Interpolación temporal"
   ]
  },
  {
   "cell_type": "markdown",
   "metadata": {},
   "source": [
    "A continuación, se carga la base de datos de un día y se interpola temporalmente. Esto se realiza debido a que las mediciones están tomadas en intervalos de 15 minutos y se van a establecer mediciones cada minuto."
   ]
  },
  {
   "cell_type": "code",
   "execution_count": null,
   "metadata": {},
   "outputs": [],
   "source": [
    "import pandas as pd\n",
    "import matplotlib.pyplot as plt\n",
    "import numpy as np\n",
    "from mpl_toolkits.mplot3d import Axes3D\n",
    "import math\n",
    "import decimal\n",
    "%matplotlib inline"
   ]
  },
  {
   "cell_type": "code",
   "execution_count": null,
   "metadata": {},
   "outputs": [],
   "source": [
    "df = pd.read_csv('df_M30_KM_dia.csv', delimiter=',')"
   ]
  },
  {
   "cell_type": "markdown",
   "metadata": {},
   "source": [
    "Una vez cargada la base de datos, se eliminan las mediciones corruptas, en este caso las mediciones del sensor ubicado en el kilómetro 0.2 y 0.9."
   ]
  },
  {
   "cell_type": "code",
   "execution_count": null,
   "metadata": {},
   "outputs": [],
   "source": [
    "df = df.sort_values(by=['KM', 'Hora'])\n",
    "df = df.reset_index(drop=True)\n",
    "df = df[['ID', 'oldID', 'fecha', 'intensidad', 'ocupacion', 'vmed', 'periodo_integracion',\n",
    "                       'KM', 'densidad', 'Hora']]\n",
    "df = df[~(df['KM'] == 0.2)]\n",
    "df = df[~(df['KM'] == 0.9)]\n",
    "df.index = range(len(df.index))"
   ]
  },
  {
   "cell_type": "markdown",
   "metadata": {},
   "source": [
    "Una vez adaptada la base de datos, se interpola"
   ]
  },
  {
   "cell_type": "code",
   "execution_count": null,
   "metadata": {},
   "outputs": [],
   "source": [
    "df_temp = pd.DataFrame([])\n",
    "df_int = pd.DataFrame([])\n",
    "\n",
    "for id in np.sort(df.oldID.value_counts().keys()):\n",
    "    df_aux = df.loc[df['oldID'] == id]\n",
    "    # Se crea la matriz de interpolación de tamaño: filas del id obtenido * 15 minutos interpolados\n",
    "    #- 14 últimos minutos del día sin medición * 10 columnas\n",
    "    nans = np.where(np.empty_like(np.arange((len(df_aux.index)*15-14)*10).reshape(len(df_aux.index)*15-14, 10)), np.nan, np.nan)\n",
    "    df_new = pd.DataFrame(nans, columns=['ID','oldID','fecha','intensidad','ocupacion','vmed','periodo_integracion', \n",
    "                                         'KM', 'densidad', 'Hora'])\n",
    "    # Se asignan los valores del dataframe\n",
    "    j = 0\n",
    "    for i in df_new.index.values.astype(int):\n",
    "        # Si es un valor que está relleno, se copia entero\n",
    "        if (i%15) == 0:\n",
    "            if i != 0:\n",
    "                j=j+1\n",
    "            df_new.loc[i] = df_aux.values[j]\n",
    "        else:\n",
    "        # Si no es valor relleno, se copian sólo los valores iguales (ID, oldID, KM) y se asigna un periodo_int\n",
    "            df_new.iloc[i, df.columns.get_loc('ID')] = df_aux.iloc[j, df.columns.get_loc('ID')]\n",
    "            df_new.iloc[i, df.columns.get_loc('oldID')] = df_aux.iloc[j, df.columns.get_loc('oldID')]\n",
    "            df_new.iloc[i, df.columns.get_loc('periodo_integracion')] = 1.0\n",
    "            df_new.iloc[i, df.columns.get_loc('KM')] = df_aux.iloc[j, df.columns.get_loc('KM')]\n",
    "    \n",
    "    \n",
    "    # se interpolan los valores de las mediciones.\n",
    "    df_new['intensidad'] = df_new['intensidad'].interpolate()\n",
    "    df_new['ocupacion'] = df_new['ocupacion'].interpolate()\n",
    "    df_new['vmed'] = df_new['vmed'].interpolate()\n",
    "    df_new['densidad'] = df_new['densidad'].interpolate()\n",
    "    \n",
    "    # Secrea un dataframe con la interpolación\n",
    "    if id == 'PM10001':\n",
    "        df_temp = df_new\n",
    "    else:\n",
    "        df_temp = df_temp.append(df_new, ignore_index=True)"
   ]
  },
  {
   "cell_type": "markdown",
   "metadata": {},
   "source": [
    "Ahora es necesario interpolar la hora de la medición. Sin embargo, hay que tener cuidado, dado que la interpolación se realiza de manera decimal y estamos contemplando tiempo. Es por ello que hay que modificar los datos para no interpolar desde 59 hasta 99 minutos.\n",
    "\n",
    "Primero se crea un dataframe con el oldID y la fecha."
   ]
  },
  {
   "cell_type": "code",
   "execution_count": null,
   "metadata": {},
   "outputs": [],
   "source": [
    "df_1 = pd.concat([df_temp['oldID'], df_temp['fecha']], axis=1, keys=['oldID', 'fecha'])"
   ]
  },
  {
   "cell_type": "markdown",
   "metadata": {},
   "source": [
    "Se extraen los valores de 'Hora' y 'Minuto' y se cambia el formato de la fecha para adecuarlo al estándar de Pandas."
   ]
  },
  {
   "cell_type": "code",
   "execution_count": null,
   "metadata": {},
   "outputs": [],
   "source": [
    "df_1['fecha'] = pd.to_datetime(df_1['fecha'])\n",
    "df_1['hour'] = df_1.fecha.dt.hour\n",
    "df_1['minute'] = df_1.fecha.dt.minute\n",
    "df_1['fecha'] = df_1.fecha.dt.strftime('%d-%m-%Y')"
   ]
  },
  {
   "cell_type": "markdown",
   "metadata": {},
   "source": [
    "Ahora es necesario rellenar los valores existentes entre los datos recogidos. \n",
    "\n",
    "Para los minutos, es necesario establecer, manualmente, el valor anterior a la medición de la siguiente espira (que comienza en 0.0) al valor 59.0 para que no haya interpolaciones superiores a 59 minutos.\n",
    "\n",
    "Para las horas, si el valor de la celda actual no está rellene, se rellena con el valor anterior.\n",
    "\n",
    "Una vez hecho esto se pueden interpolar los minutos sin problemas. Tras esto, se crea una columna con el valor de las horas de las mediciones en decimal para poder representarlos y se copia a la columna de 'Hora' en el dataframe original."
   ]
  },
  {
   "cell_type": "code",
   "execution_count": null,
   "metadata": {},
   "outputs": [],
   "source": [
    "for i in df_1.index.values.astype(int):\n",
    "    if i != 0 and df_1.iloc[i]['minute'] == 0.0 and df_1.iloc[i-1]['oldID'] == df_1.iloc[i]['oldID']:\n",
    "        df_1.at[i-1,'minute'] =  59.0\n",
    "    if i != 0 and pd.isnull(df_1.at[i,'hour']):\n",
    "        df_1.at[i,'hour'] =  df_1.at[i-1,'hour']\n",
    "\n",
    "        \n",
    "df_1['minute'] = df_1['minute'].interpolate(method='linear')\n",
    "\n",
    "df_1['time'] = \"\"\n",
    "for i in df_1.index.values.astype(int):\n",
    "    if df_1.iloc[i]['minute'] < 10.0:print(\"i:\", i, \"value: \", str(df_1.iloc[i, df_1.columns.get_loc('hour')].astype('int64')) + \".0\" + str(df_1.iloc[i, df_1.columns.get_loc('minute')].astype('int64')))\n",
    "        df_1.iloc[i, df_1.columns.get_loc('time')] = str(df_1.iloc[i, df_1.columns.get_loc('hour')].astype('int64')) + \".0\" + str(df_1.iloc[i, df_1.columns.get_loc('minute')].astype('int64'))\n",
    "    else:\n",
    "        df_1.iloc[i, df_1.columns.get_loc('time')] = str(df_1.iloc[i, df_1.columns.get_loc('hour')].astype('int64')) + \".\" + str(df_1.iloc[i, df_1.columns.get_loc('minute')].astype('int64'))\n",
    "\n",
    "df_temp['Hora'] = df_1['time']"
   ]
  },
  {
   "cell_type": "markdown",
   "metadata": {},
   "source": [
    "Exporto a CSV el DataFrame"
   ]
  },
  {
   "cell_type": "code",
   "execution_count": null,
   "metadata": {},
   "outputs": [],
   "source": [
    "df_temp.to_csv('df_M30_KM_dia_inter_temp.csv', sep=';')"
   ]
  },
  {
   "cell_type": "markdown",
   "metadata": {},
   "source": [
    "# Interpolación espacial"
   ]
  },
  {
   "cell_type": "markdown",
   "metadata": {},
   "source": [
    "Una vez realizada la interpolación temporal, es necesario conseguir medidas cada 100 metros de carretera para poder visualizar bien las transiciones entre las distintas velocidades medias obtenidas. \n",
    "\n",
    "Esto es útil dado que la M30 tiene mediciones en intervalos con una gran diferencia. De esta manera se consiguen datos equidistantes, tanto en tiempo como en distancia. Así, las gráficas obtenidas estarán completas y no tendran mediciones vacías."
   ]
  },
  {
   "cell_type": "code",
   "execution_count": 1,
   "metadata": {},
   "outputs": [],
   "source": [
    "import pandas as pd\n",
    "import matplotlib.pyplot as plt\n",
    "import numpy as np\n",
    "from mpl_toolkits.mplot3d import Axes3D\n",
    "import math\n",
    "import decimal\n",
    "%matplotlib inline"
   ]
  },
  {
   "cell_type": "markdown",
   "metadata": {},
   "source": [
    "Cargo la base de datos interpolada temporalmente."
   ]
  },
  {
   "cell_type": "code",
   "execution_count": 2,
   "metadata": {},
   "outputs": [],
   "source": [
    "df_good = pd.read_csv('df_M30_KM_dia_inter_temp.csv', delimiter=';')\n",
    "df_good = df_good.drop(['Unnamed: 0'], axis=1)"
   ]
  },
  {
   "cell_type": "markdown",
   "metadata": {},
   "source": [
    "Por cada filtrado temporal realizado (uno para cada minuto interpolado) se recogen las mediciones de las espiras (KM), se crea una matriz de interpolación, se asignan los valores comunes y se establece el valor kilómetrico interpolado. Une vez hecho esto se interpolan el resto de valores y se crea, progresivamente, el dataframe final. "
   ]
  },
  {
   "cell_type": "code",
   "execution_count": null,
   "metadata": {},
   "outputs": [],
   "source": [
    "df_esp = pd.DataFrame([])\n",
    "df_int = pd.DataFrame([])\n",
    "\n",
    "m30_km = 32.5\n",
    "m30_centenas_m = int(m30_km*10)\n",
    "\n",
    "for time in np.sort(df_good.Hora.value_counts().keys()):\n",
    "    df_aux = df_good.loc[df_good['Hora'] == time]\n",
    "    df_aux = df_aux.sort_values(by=['KM'])\n",
    "    df_aux = df_aux.reset_index(drop=True)\n",
    "    \n",
    "    nans = np.where(np.empty_like(np.arange(m30_centenas_m*10).reshape(m30_centenas_m, 10)), np.nan, np.nan)\n",
    "    df_new = pd.DataFrame(nans, columns=['ID','oldID','fecha','intensidad','ocupacion','vmed','periodo_integracion','KM','densidad','Hora'])\n",
    "    \n",
    "    #print(df_new.shape)\n",
    "    \n",
    "    df_new['ID'] = 'int_temp'\n",
    "    df_new['oldID'] = 'int_temp'\n",
    "    df_new['Hora'] = time\n",
    "    df_new['fecha'] = df_aux.iloc[0, df_aux.columns.get_loc('fecha')]\n",
    "    df_new['periodo_integracion'] = 1.0\n",
    "    \n",
    "    j=0\n",
    "    k = 0\n",
    "    for i in df_new.index.values.astype(int):\n",
    "        if int(round(np.sort(df_aux.KM.value_counts().keys())[k]/0.1, 1)) == 322:\n",
    "            k = 0\n",
    "        if i == int(round(np.sort(df_aux.KM.value_counts().keys())[k]/0.1, 1)):\n",
    "            df_new.loc[i] = df_aux.loc[j].values\n",
    "            j += 1\n",
    "            k += 1\n",
    "        else:  \n",
    "            df_new.at[i,'KM'] = i/10\n",
    "            \n",
    "    df_int = df_new.interpolate()\n",
    "    if time == '0.0':\n",
    "        df_esp = df_int\n",
    "    else:\n",
    "        df_esp = df_esp.append(df_int, ignore_index=True)"
   ]
  },
  {
   "cell_type": "markdown",
   "metadata": {},
   "source": [
    "Se exporta el dataframe final a una base de datos"
   ]
  },
  {
   "cell_type": "code",
   "execution_count": null,
   "metadata": {},
   "outputs": [],
   "source": [
    "df_esp.to_csv('df_M30_KM_dia_inter_temp_esp.csv', sep=';')"
   ]
  },
  {
   "cell_type": "markdown",
   "metadata": {},
   "source": [
    "# Representación"
   ]
  },
  {
   "cell_type": "code",
   "execution_count": null,
   "metadata": {},
   "outputs": [],
   "source": [
    "import pandas as pd\n",
    "import matplotlib.pyplot as plt\n",
    "import numpy as np\n",
    "from mpl_toolkits.mplot3d import Axes3D\n",
    "import math\n",
    "import decimal\n",
    "%matplotlib inline"
   ]
  },
  {
   "cell_type": "markdown",
   "metadata": {},
   "source": [
    "Cargo las bases de datos."
   ]
  },
  {
   "cell_type": "code",
   "execution_count": null,
   "metadata": {},
   "outputs": [],
   "source": [
    "# Cargo la base de datos proporcionada.\n",
    "df = pd.read_csv('df_M30_KM_dia.csv', delimiter=',')\n",
    "\n",
    "#Cargo la base de datos tras interpolar.\n",
    "df_final = pd.read_csv('df_M30_KM_dia_inter_temp_esp.csv', delimiter=';')\n",
    "df_final = df_final.drop(['Unnamed: 0'], axis=1)"
   ]
  },
  {
   "cell_type": "markdown",
   "metadata": {},
   "source": [
    "Represento las mediciones existentes tras las interpolaciones. Como se puede apreciar ahora no hay zonas sin medición."
   ]
  },
  {
   "cell_type": "code",
   "execution_count": null,
   "metadata": {},
   "outputs": [],
   "source": [
    "# Gráfica de las mediciones proporcionas en la base de datos inicial.\n",
    "df.plot.scatter(x=\"Hora\", y=\"KM\")\n",
    "plt.title(\"Gráfica de las mediciones proporcionas en la base de datos inicial\")\n",
    "# Gráfica de las mediciones tras interpolar la base de datos.\n",
    "df_final.plot.scatter(x=\"Hora\", y=\"KM\")\n",
    "plt.title(\"Gráfica de las mediciones tras interpolar la base de datos\")"
   ]
  },
  {
   "cell_type": "markdown",
   "metadata": {},
   "source": [
    "Represento el tráfico de las medicines obenidas"
   ]
  },
  {
   "cell_type": "code",
   "execution_count": null,
   "metadata": {},
   "outputs": [],
   "source": [
    "# Representación de la velocidad media medida proporcionadas en la base de datos e interpoladas\n",
    "df.plot.scatter(x=\"Hora\", y=\"KM\", c=\"vmed\", colormap='viridis')\n",
    "plt.title(\"Medidas proporcionadas de la velocidad media\")\n",
    "\n",
    "df_final.plot.scatter(x=\"Hora\", y=\"KM\", c=\"vmed\", colormap='viridis')\n",
    "plt.title(\"Medidicas interpoladas de la velocidad media\")"
   ]
  },
  {
   "cell_type": "code",
   "execution_count": null,
   "metadata": {},
   "outputs": [],
   "source": []
  }
 ],
 "metadata": {
  "kernelspec": {
   "display_name": "Python 3",
   "language": "python",
   "name": "python3"
  },
  "language_info": {
   "codemirror_mode": {
    "name": "ipython",
    "version": 3
   },
   "file_extension": ".py",
   "mimetype": "text/x-python",
   "name": "python",
   "nbconvert_exporter": "python",
   "pygments_lexer": "ipython3",
   "version": "3.6.7"
  }
 },
 "nbformat": 4,
 "nbformat_minor": 2
}
